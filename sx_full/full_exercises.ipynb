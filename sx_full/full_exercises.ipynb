{
 "cells": [
  {
   "cell_type": "markdown",
   "id": "657eac77",
   "metadata": {},
   "source": [
    "### *1 Problem - 07 Desafío: trabajando en otros contextos*\n",
    "\n",
    "Trabajando en otros contextos\n",
    "\n",
    "Ha llegado el momento de poner en práctica todo lo aprendido durante las clases. ¡Preparé dos proyectos adicionales para que los desarrollemos durante el curso, para asegurarnos de que podamos practicar mucho! Para ello trabajaremos con 2 nuevos conjuntos de datos, pero esta vez serán mucho más pequeños. Las bases de datos están disponibles para descargar aquí:\n",
    "\n",
    "Proyecto Desafío 1: Ventas Online - dados_vendas_clientes.json;\n",
    "    https://cdn3.gnarususercontent.com.br/2928-transformacao-manipulacao-dados/dados_vendas_clientes.json\n",
    "\n",
    "Proyecto Desafío 2: Administración de Condominios - dados_locacao_imoveis.json.\n",
    "    https://cdn3.gnarususercontent.com.br/2928-transformacao-manipulacao-dados/dados_locacao_imoveis.json\n",
    "\n",
    "En cada clase desarrollaremos una etapa de los proyectos. Así que guarde su código de construcción para cada desafío para poder aplicarlo en los desafíos posteriores.\n",
    "\n",
    "En cada clase desarrollaremos una etapa de los proyectos. Así que guarde su código de construcción para cada desafío para poder aplicarlo en los desafíos posteriores.\n",
    "\n",
    "Etapa 1\n",
    "\n",
    "- Proyecto Desafío 1: Ventas Online\n",
    "\n",
    "El objetivo de este proyecto es analizar los resultados de un evento con los clientes de una empresa de venta online. Se recopiló un conjunto de datos que contiene los clientes que más gastaron en productos durante los 5 días de ventas, que es la duración del evento. Este análisis identificará al cliente con la mayor compra esta semana, quien recibirá un premio de la tienda, y posteriormente, puede ayudar a la empresa a crear nuevas estrategias para atraer más clientes.\n",
    "\n",
    "La base de datos utilizada en este análisis es *dados_vendas_clientes.json* y contiene información importante sobre los clientes, como el nombre registrado del cliente, el monto total pagado al momento de la compra y el día de la compra.\n",
    "\n",
    "*dados_vendas_clientes.json*\n",
    "    https://cdn3.gnarususercontent.com.br/2928-transformacao-manipulacao-dados/dados_vendas_clientes.json\n",
    "\n",
    "Sabiendo esta información, el desafío del proyecto 1: ventas online será abrir la base de datos con Pandas y aplicar *json_normalize*.\n",
    "\n",
    "*json_normalize*\n",
    "    https://pandas.pydata.org/docs/reference/api/pandas.json_normalize.html\n",
    "\n",
    "- Proyecto Desafío 2: Administración de Condominios\n",
    "\n",
    "Administrar condominios es una tarea que requiere mucha atención y organización. Entre las diversas responsabilidades de gestión se encuentra el cobro del alquiler a los inquilinos. Para garantizar la buena salud financiera de la empresa, es fundamental que estos pagos se realicen de forma regular y puntual. Sin embargo, sabemos que esto no siempre sucede.\n",
    "\n",
    "Teniendo esto en cuenta, propongo un desafío de procesamiento de datos con el objetivo de analizar el retraso en el pago del alquiler en el condominio de algunos residentes. Pongo a disposición la base de datos *dados_locacao_imoveis.json*, que contiene información sobre el departamento de los inquilinos, el día acordado para el pago del alquiler, el día en que se realiza el pago del alquiler y el monto del alquiler.\n",
    "\n",
    "*dados_locacao_imoveis.json*\n",
    "    https://cdn3.gnarususercontent.com.br/2928-transformacao-manipulacao-dados/dados_locacao_imoveis.json\n",
    "\n",
    "Con esta información, el desafío del proyecto 2: administración del condominio será similar al desafío del proyecto 1, abrir la base de datos con Pandas y aplicar *json_normalize* al DataFrame.\n",
    "\n",
    "*json_normalize*\n",
    "    https://pandas.pydata.org/docs/reference/api/pandas.json_normalize.html"
   ]
  },
  {
   "cell_type": "markdown",
   "id": "c7966140",
   "metadata": {},
   "source": [
    "#### *Intructor*\n",
    "\n",
    "Puede haber varias formas de resolver un problema. Presentaré cómo resolví los problemas y esto no quiere decir que estas sean las mejores soluciones, sino que son una opción de solución.\n",
    "\n",
    "- Proyecto Desafío 1: Ventas Online"
   ]
  },
  {
   "cell_type": "code",
   "execution_count": null,
   "id": "f6845361",
   "metadata": {},
   "outputs": [],
   "source": [
    "# Import de pandas\n",
    "import pandas as pd\n",
    "\n",
    "# Leer el archivo json con read_json\n",
    "datos = pd.read_json('/content/dados_vendas_clientes.json')\n",
    "\n",
    "# Aplicar json_normalize en la columna dados_vendas\n",
    "datos = pd.json_normalize(datos['dados_vendas'])\n",
    "\n",
    "# Mostrar valores\n",
    "datos"
   ]
  },
  {
   "cell_type": "markdown",
   "id": "bf2ec15e",
   "metadata": {},
   "source": [
    "- Projecto Desafio 2: Administración de Condominios"
   ]
  },
  {
   "cell_type": "code",
   "execution_count": null,
   "id": "d0d4568a",
   "metadata": {},
   "outputs": [],
   "source": [
    "# Import de pandas\n",
    "import pandas as pd\n",
    "\n",
    "# Leer el archivo json con read_json\n",
    "datos = pd.read_json('/content/dados_locacao_imoveis.json')\n",
    "\n",
    "# Aplicar json_normalize en la columna dados_locacao\n",
    "datos = pd.json_normalize(datos['dados_locacao'])\n",
    "\n",
    "# Mostrar valores\n",
    "datos"
   ]
  },
  {
   "cell_type": "markdown",
   "id": "2c2dd652",
   "metadata": {},
   "source": [
    "### *2 Numeric - 07 Tratando números en strings*\n",
    "Selecciona la alternativa que hace que los datos de las columnas cantidad y salario se conviertan en valores numéricos, es decir, columnas int y float sin existencia de texto que acompañe a cada valor.\n",
    "\n",
    "Para ayudarlo con sus pruebas, intente usar el siguiente código para crear el DataFrame df y encontrar la solución para la actividad:"
   ]
  },
  {
   "cell_type": "code",
   "execution_count": null,
   "id": "434d6740",
   "metadata": {},
   "outputs": [],
   "source": [
    "import pandas as pd\n",
    "import numpy as np\n",
    "\n",
    "# datos de la empresa\n",
    "datos = {\n",
    "    'cargo': ['Gerencia', 'Coordinación', 'Supervisión', 'Analista', 'Asistente', 'Operación', 'Asistente', 'Prácticas', 'Asesoría', 'Consultoría'],\n",
    "    'cantidad': ['2 personas', '1 persona', '3 personas', '4 personas', '5 personas', '3 personas', '2 personas', '1 persona', '1 persona', '1 persona'],\n",
    "    'salario': ['$10.000 reales', '$8.000 reales', '$7.000 reales', '$5.000 reales', '$4.000 reales', '$3.500 reales', '$3.000 reales', '$1.500 reales', '$2.500 reales', '$6.000 reales']\n",
    "}\n",
    "\n",
    "# transformando el diccionario en DataFrame\n",
    "df = pd.DataFrame(datos)\n",
    "\n",
    "# df es el DataFrame con los datos de la empres\n",
    "df"
   ]
  },
  {
   "cell_type": "code",
   "execution_count": null,
   "id": "a246406f",
   "metadata": {},
   "outputs": [],
   "source": [
    "# OPTION 1 - INCORRECTA\n",
    "# Eliminamos los textos que están alrededor de los números con apply y lambda.\n",
    "df['cantidad'] = df['cantidad'].apply(lambda x: x.replace(' personas', '').replace(' persona', ''))\n",
    "df['salario'] = df['salario'].apply(lambda x: x.replace(' reales', ''))\n",
    "\n",
    "# Luego, transformamos las columnas a tipo numérico con astype.\n",
    "df['cantidad'] = df['cantidad'].astype(np.int64)\n",
    "df['salario'] = df['salario'].astype(np.float64)\n",
    "\n",
    "# ¿Por que esta mal?\n",
    "# En los reemplazos, el texto \"$\" no se elimina correctamente de la columna salario. Como resultado, cuando se utiliza astype, se produce un error de conversión."
   ]
  },
  {
   "cell_type": "code",
   "execution_count": null,
   "id": "e966965c",
   "metadata": {},
   "outputs": [],
   "source": [
    "# OPTION 2 - CORRECTA\n",
    "# Eliminamos los textos que están alrededor de los números con apply y lambda.\n",
    "df['cantidad'] = df['cantidad'].apply(lambda x: x.replace(' personas', '').replace(' persona', ''))\n",
    "df['salario'] = df['salario'].apply(lambda x: x.replace('$', '').replace(' reales', ''))\n",
    "\n",
    "# Luego, transformamos las columnas a tipo numérico con astype.\n",
    "df['cantidad'] = df['cantidad'].astype(np.int64)\n",
    "df['salario'] = df['salario'].astype(np.float64)\n",
    "\n",
    "# ¿Por que esta mal?\n",
    "# La función replace reemplaza textos con valores vacíos '', eliminándolos de la cadena original. Luego, se debe usar astype para convertir las columnas a numéricas, con el tipo int64 para la columna cantidady float64 para la columna salario."
   ]
  },
  {
   "cell_type": "code",
   "execution_count": null,
   "id": "f45030f5",
   "metadata": {},
   "outputs": [],
   "source": [
    "# OPTION 3 - INCORRECTA\n",
    "# Eliminamos los textos que están alrededor de los números con apply y lambda.\n",
    "df['cantidad'] = df['cantidad'].apply(lambda x: x.replace(' personas', ''))\n",
    "df['salario'] = df['salario'].apply(lambda x: x.replace('$', '').replace(' reales', ''))\n",
    "\n",
    "# Luego, transformamos las columnas a tipo numérico con astype.\n",
    "df['cantidad'] = df['cantidad'].astype(np.int64)\n",
    "df['salario'] = df['salario'].astype(np.float64)\n",
    "\n",
    "# ¿Por que esta mal?\n",
    "# En los reemplazos, el texto \"persona\" no se elimina correctamente de la columna cantidad. Permaneciendo el texto \"persona\" en los puestos de Coordinación, Prácticas, Asesoría y Consultoría, lo que provocará errores cuando utilicemos astype."
   ]
  },
  {
   "cell_type": "markdown",
   "id": "9858dc53",
   "metadata": {},
   "source": [
    "### *2 Numeric - 09 Desafío: trabajando en otros contextos*\n",
    "Pongamos nuevamente en práctica todo lo que aprendimos durante la clase. He puesto los 2 nuevos conjuntos de datos disponibles para descargar a continuación:\n",
    "\n",
    "- Proyecto Desafío 1: Ventas Online - *dados_vendas_clientes.json*;\n",
    "    https://cdn3.gnarususercontent.com.br/2928-transformacao-manipulacao-dados/dados_vendas_clientes.json\n",
    "\n",
    "- Proyecto Desafío 2: Administración de Condominios - *dados_locacao_imoveis.json*.\n",
    "    https://cdn3.gnarususercontent.com.br/2928-transformacao-manipulacao-dados/dados_locacao_imoveis.json\n",
    "\n",
    "Recuerda: Hay dos proyectos de tratamiento que se construirán durante el curso. Así que guarde su código de construcción para cada desafío para poder aplicarlo a desafíos posteriores."
   ]
  },
  {
   "cell_type": "markdown",
   "id": "5716a493",
   "metadata": {},
   "source": [
    "#### *Instructor*\n",
    "Puede haber varias formas de resolver un problema. Presentaré cómo resolví los problemas y esto no quiere decir que estas sean las mejores soluciones, sino que son una opción de solución.\n",
    "\n",
    "- Proyecto Desafío 1: Ventas Online"
   ]
  },
  {
   "cell_type": "code",
   "execution_count": null,
   "id": "6776c480",
   "metadata": {},
   "outputs": [],
   "source": [
    "# Colectar los valores de las columnas y verificar\n",
    "columnas = list(datos.columns)\n",
    "columnas\n",
    "\n",
    "# Destrincar las listas con explode\n",
    "datos = datos.explode(columnas[1:])\n",
    "# Resetear los index de las líneas\n",
    "datos.reset_index(drop=True,inplace=True)\n",
    "# Observar el DataFrame\n",
    "datos\n",
    "\n",
    "# Verificar los tipos de datos con info\n",
    "datos.info()\n",
    "\n",
    "# La columna numérica es el 'Valor da compra'\n",
    "datos['Valor da compra']\n",
    "\n",
    "# Iniciar la transformación\n",
    "# Import de la biblioteca numpy\n",
    "import numpy as np\n",
    "\n",
    "# Remover los textos presentes en la base\n",
    "# Cambiar las comas separadoras del decimal por punto\n",
    "datos['Valor da compra'] = datos['Valor da compra'].apply(lambda x: x.replace('R$ ', '').replace(',','.').strip())\n",
    "\n",
    "# Cambiar los tipo de datos para float\n",
    "datos['Valor da compra'] = datos['Valor da compra'].astype(np.float64)\n",
    "\n",
    "# Verificar la transformación\n",
    "datos.info()"
   ]
  },
  {
   "cell_type": "markdown",
   "id": "ba32e2b0",
   "metadata": {},
   "source": [
    "- Projecto Desafio 2: Administración de Condominios"
   ]
  },
  {
   "cell_type": "code",
   "execution_count": null,
   "id": "eb2af12f",
   "metadata": {},
   "outputs": [],
   "source": [
    "# Colectar los valores de las columnas y verificar\n",
    "columnas = list(datos.columns)\n",
    "columnas\n",
    "\n",
    "# Destrincar las listas con explode\n",
    "datos = datos.explode(columnas[1:])\n",
    "\n",
    "# Resetear los index de las líneas\n",
    "datos.reset_index(drop=True,inplace=True)\n",
    "\n",
    "# Observar el DataFrame\n",
    "datos\n",
    "\n",
    "# Verificar los tipos de datos con info\n",
    "datos.info()\n",
    "\n",
    "# La columna numérica es el 'valor_aluguel'\n",
    "datos['valor_aluguel']\n",
    "\n",
    "# Iniciar la transformación\n",
    "# Import de la biblioteca numpy\n",
    "import numpy as np\n",
    "\n",
    "# Remover los textos presentes en la base\n",
    "# Cambiar las comas separadoras del decimal por punto\n",
    "datos['valor_aluguel'] = datos['valor_aluguel'].apply(lambda x: x.replace('$ ', '').replace(' reais', '').replace(',','.').strip())\n",
    "\n",
    "# Cambiar los tipos de datos para float\n",
    "datos['valor_aluguel'] = datos['valor_aluguel'].astype(np.float64)\n",
    "\n",
    "# Verificar la transformación\n",
    "datos.info()"
   ]
  },
  {
   "cell_type": "markdown",
   "id": "034156ae",
   "metadata": {},
   "source": [
    "### *3 Text - 05 Para saber más: profundizando en Regex*\n",
    "Regex (o expresión regular) es una secuencia de caracteres que define un patrón de búsqueda en un texto. Es una herramienta poderosa y versátil que le permite buscar, reemplazar y manipular patrones de texto de manera eficiente. Regex se usa ampliamente en diferentes áreas, incluida la programación, la ciencia de datos y el procesamiento de textos.\n",
    "\n",
    "En la ciencia de datos, las expresiones regulares se utilizan a menudo para procesar datos de texto sin formato. Algunas de estas aplicaciones incluyen limpieza de datos, donde se pueden usar expresiones regulares para buscar y reemplazar ciertos caracteres. También se puede utilizar en proyectos de clasificación; un ejemplo es el uso de expresiones regulares para ayudar a encontrar patrones en el texto de los correos electrónicos, lo que ayuda a clasificar si son spam o no.\n",
    "\n",
    "En general, las expresiones regulares permiten a los científicos de datos procesar, analizar y clasificar grandes volúmenes de datos de texto de forma eficiente y automatizada. El uso adecuado de expresiones regulares puede ayudar a extraer información valiosa de los datos de texto, además de facilitar la limpieza y organización de esos datos.\n",
    "\n",
    "Puedes crear una expresión regular con la ayuda del sitio web *regex101.com*. Si quieres saber más sobre regex y su aplicación en bases de datos, vale la pena leer el artículo *Principales casos de uso de Regex para procesamiento de datos*, que muestra una aplicación regex en banco de datos.\n",
    "\n",
    "*regex101.com*\n",
    "    https://regex101.com/\n",
    "\n",
    "*Principales casos de uso de Regex para procesamiento de datos*\n",
    "    https://www.alura.com.br/artigos/principais-casos-uso-regex-para-tratamento-dados?_gl=1*1ipiqzp*_gcl_au*NDUzMDM0MzUxLjE3NTUyMzQyOTc.*_ga*MTYwODQzMzgwOC4xNzU1MTI1MTE3*_ga_WWRP4FFDZK*czE3NTU1NzAyMDEkbzI0JGcxJHQxNzU1NTkxMzcxJGozMyRsMCRoMA..\n",
    "\n",
    "Puede estudiar expresiones regulares y aprender algunas de sus reglas básicas, como las presentadas en el curso, y a medida que se familiarice con el uso de expresiones regulares, podrá comenzar a explorar otras funciones y características más avanzadas para crear patrones más complejos en sus códigos."
   ]
  },
  {
   "cell_type": "markdown",
   "id": "892917e3",
   "metadata": {},
   "source": [
    "### *3 Text - 07 Desafío: hazlo tú mismo*\n",
    "Aprendimos a manipular elementos textuales con el comando str. Luego, usamos expresiones regulares para limpiar elementos no deseados en el texto y, finalmente, transformamos el texto tratado en una lista, construyendo un token.\n",
    "\n",
    "Durante las clases transformamos dos columnas descripcion_local y comodidades buscando la tokenización. Pero aún falta la columna descripcion_vecindad, que también merece la pena transformar.\n",
    "\n",
    "Por lo tanto, en esta actividad te propongo realizar el proceso de tokenización para la columna descripcion_vecindad presente en el conjunto de datos datos_hosting.json.\n",
    "\n",
    "No dudes en seguir los mismos pasos dados en clase o, si lo prefieres, realizar otras mejoras, como eliminar algunos caracteres o palabras vacías. En el apartado “Opinión del instructor” encontrarás una posible resolución para esta actividad."
   ]
  },
  {
   "cell_type": "markdown",
   "id": "bfd1b75e",
   "metadata": {},
   "source": [
    "#### *Instructor*\n",
    "Para procesar los datos de la columna descripcion_vecindad realicé los mismos pasos seguidos en clase. Pero como se explicó anteriormente, usted es libre de aplicar otros procesos al tratamiento."
   ]
  },
  {
   "cell_type": "code",
   "execution_count": null,
   "id": "c2827295",
   "metadata": {},
   "outputs": [],
   "source": [
    "# Transformamos el texto en letras minúsculas\n",
    "datos['descripcion_vecindad'] = datos['descripcion_vecindad'].str.lower()\n",
    "\n",
    "# Substituímos los caracteres especiales\n",
    "datos['descripcion_vecindad'] = datos['descripcion_vecindad'].str.replace('[^a-zA-Z0-9\\-\\']', ' ', regex=True)\n",
    "datos['descripcion_vecindad'] = datos['descripcion_vecindad'].str.replace('(?<!\\w)-(?!\\w)', '', regex=True)\n",
    "\n",
    "# Transformamos el texto en lista, formando el token\n",
    "datos['descripcion_vecindad'] = datos['descripcion_vecindad'].str.split()\n",
    "datos.head()"
   ]
  },
  {
   "cell_type": "markdown",
   "id": "e0a2388b",
   "metadata": {},
   "source": [
    "### *3 Text - 08 Desafío: trabajando en otros contextos*\n",
    "Pongamos nuevamente en práctica todo lo que aprendimos durante la clase. He puesto los 2 nuevos conjuntos de datos disponibles para descargar a continuación:\n",
    "\n",
    "- Proyecto Desafío 1: Ventas Online - *dados_vendas_clientes.json*;\n",
    "- Proyecto Desafío 2: Administración de Condominios - *dados_locacao_imoveis.json*.\n",
    "\n",
    "dados_vendas_clientes.json\n",
    "    https://cdn3.gnarususercontent.com.br/2928-transformacao-manipulacao-dados/dados_vendas_clientes.json\n",
    "\n",
    "*dados_locacao_imoveis.json*\n",
    "    https://cdn3.gnarususercontent.com.br/2928-transformacao-manipulacao-dados/dados_locacao_imoveis.json\n",
    "\n",
    "Recuerda: Hay dos proyectos de tratamiento que se construirán durante el curso. Así que guarde su código de construcción para cada desafío para poder aplicarlo a desafíos posteriores.\n",
    "\n",
    "#### *Etapa 3*\n",
    "\n",
    "- Proyecto Desafío 1: Ventas Online\n",
    "En el paso 2, trabajamos en la transformación de datos numéricos. Ahora podemos trabajar con valores textuales.\n",
    "\n",
    "Debido a una inestabilidad en el sitio web de la empresa, tuvimos problemas con los nombres de los clientes durante el guardado. Esto resultó en una columna de nombres de clientes con una combinación de letras, mayúsculas y minúsculas, números y otros caracteres.\n",
    "\n",
    "Sabiendo esto, manipula los textos de la columna Cliente para que el resultado sean los nombres de los clientes en letras minúsculas, con ausencia de caracteres especiales o números.\n",
    "\n",
    "- Proyecto Desafío 2: Administración de Condominios\n",
    "En el paso 2, trabajamos en transformar los datos numéricos. Ahora podemos trabajar con valores textuales.\n",
    "\n",
    "Buscando explicar la organización de la identificación de los apartamentos, durante la creación del conjunto de datos se añadió el texto (blocoAP). Este texto informa que los nombres de los apartamentos están organizados con la letra mayúscula seguida del número del apartamento. Sin embargo, esto no aporta ninguna información a nuestros datos, por lo que resulta interesante eliminar este texto del conjunto de datos.\n",
    "\n",
    "Con esto, manipule los textos de la columna apartamento para eliminar el texto (blocoAP) del DataFrame."
   ]
  },
  {
   "cell_type": "markdown",
   "id": "7d4db538",
   "metadata": {},
   "source": [
    "#### *Instructor*\n",
    "Puede haber varias formas de resolver un problema. Presentaré cómo resolví los problemas y esto no quiere decir que estas sean las mejores soluciones, sino que son una opción de solución.\n",
    "\n",
    "- Proyecto Desafío 1: Ventas Online"
   ]
  },
  {
   "cell_type": "code",
   "execution_count": null,
   "id": "5122ce16",
   "metadata": {},
   "outputs": [],
   "source": [
    "# Transformar los textos de Cliente para texto en minúscula\n",
    "datos['Cliente'] = datos['Cliente'].str.lower()\n",
    "# Verificar el resultado\n",
    "datos.head()\n",
    "\n",
    "# Opción de substitución - necesario verificar el resultado de la substitución\n",
    "# Regex no selecciona todas las letras de a-z y espacios en blanco ' '\n",
    "# Todo que satisface el regex es borrado\n",
    "datos['Cliente'].str.replace('[^a-z ]', '', regex=True)\n",
    "\n",
    "# Realizar la substitución de los datos en la columna textual\n",
    "datos['Cliente'] = datos['Cliente'].str.replace('[^a-z ]', '', regex=True).str.strip()\n",
    "\n",
    "# Visualizar el resultado final\n",
    "datos.head()"
   ]
  },
  {
   "cell_type": "markdown",
   "id": "f972d81d",
   "metadata": {},
   "source": [
    "- Projecto Desafio 2: Administración de Condominios"
   ]
  },
  {
   "cell_type": "code",
   "execution_count": null,
   "id": "89422a84",
   "metadata": {},
   "outputs": [],
   "source": [
    "# Opción de substitución - necesario verificar el resultado de la substitución\n",
    "# Fue necesario adicionar la barra '\\' para ser considerados los paréntesis como caracteres literales\n",
    "datos['apartamento'].str.replace(' \\(blocoAP\\)', '')\n",
    "\n",
    "# Realizar la substitución de los datos en la columna textual\n",
    "datos['apartamento'] = datos['apartamento'].str.replace(' \\(blocoAP\\)', '')\n",
    "\n",
    "# Visualizar el resultado final\n",
    "datos"
   ]
  },
  {
   "cell_type": "markdown",
   "id": "9a9d1bdb",
   "metadata": {},
   "source": [
    "### *04 Time - 02 Para saber más: el tipo datetime*\n",
    "En este ejemplo, se crean dos objetos date con fechas diferentes. Luego se utiliza el operador de resta para calcular la diferencia entre las dos fechas. El resultado se almacena en la variable diferencia y luego se imprime en la pantalla usando la función print().\n",
    "\n",
    "Para profundizar en los usos del tipo datetime, consulte el artículo Python datetime: *¿Cómo configuro la fecha y la hora en Python?* y también la documentación de la biblioteca datetime.\n",
    "\n",
    "*¿Cómo configuro la fecha y la hora en Python?*\n",
    "    https://www.alura.com.br/artigos/lidando-com-datas-e-horarios-no-python?_gl=1*84dqb1*_gcl_au*NDUzMDM0MzUxLjE3NTUyMzQyOTc.*_ga*MTYwODQzMzgwOC4xNzU1MTI1MTE3*_ga_WWRP4FFDZK*czE3NTU1NzAyMDEkbzI0JGcxJHQxNzU1NTkzMTIwJGo2MCRsMCRoMA..\n",
    "\n",
    "Datetime\n",
    "    https://docs.python.org/3/library/datetime.html\n"
   ]
  },
  {
   "cell_type": "markdown",
   "id": "58c262b3",
   "metadata": {},
   "source": [
    "#### *4 Time - 04 Transformando texto en fechas*\n",
    "Seleccione la alternativa que transforme los datos de la columna Fecha de venta hacia un tipo datetime.\n",
    "\n",
    "Para ayudarlo con sus pruebas, intente usar el siguiente código para crear el DataFrame datos y encontrar la solución para la actividad:"
   ]
  },
  {
   "cell_type": "code",
   "execution_count": null,
   "id": "1fa8b95c",
   "metadata": {},
   "outputs": [],
   "source": [
    "import pandas as pd\n",
    "\n",
    "# Creando el DataFrame con las informaciones\n",
    "datos = pd.DataFrame({\n",
    "    'Fecha de venta': ['01/01/2022', '05/02/2022', '10/03/2022', '15/04/2022','18/04/2022','20/04/2022'],\n",
    "    'valor': [100, 150, 200, 250,80,180]\n",
    "})\n",
    "\n",
    "# Mostrando el DataFrame\n",
    "print(datos)"
   ]
  },
  {
   "cell_type": "markdown",
   "id": "81dbb574",
   "metadata": {},
   "source": [
    "### *4 Time - 06 Hazlo tu mismo*\n",
    "En esta clase, aprendimos cómo manipular datos temporales usando datetime. Entendimos cómo transformar una columna a fecha y hora y luego manipular estos datos. Aun así, no todos los datos del conjunto inmuebles_disponibles.json fueron tratados.\n",
    "\n",
    "Durante las clases de este curso, descubrimos cómo transformar y trabajar con valores numéricos, por ejemplo, eliminando valores numéricos dentro de un texto y transformándolos en un tipo numérico, como int64 o float64.\n",
    "\n",
    "Sabiendo esto, en esta actividad te propongo transformar los datos de la columna precio del conjunto de datos inmuebles_disponibles.json al tipo numérico float64. Recordando que, antes de hacer esto, debes llenar los valores vacíos de la columna con un valor. Una sugerencia: reemplazar con el string '0.0'.\n",
    "\n",
    "No dudes en seguir los mismos pasos dados en clase o, si lo prefieres, realizar otras mejoras, como eliminar algunos caracteres o palabras vacías. En el apartado “Opinión del instructor” encontrarás una posible resolución para esta actividad."
   ]
  },
  {
   "cell_type": "markdown",
   "id": "9c07f618",
   "metadata": {},
   "source": [
    "#### *Instructor*\n",
    "Para transformar los datos de la columna precio, realicé los mismos pasos que seguí en clase. Pero como se explicó anteriormente, usted es libre de aplicar otros procesos al tratamiento."
   ]
  },
  {
   "cell_type": "code",
   "execution_count": null,
   "id": "e7bb9bc1",
   "metadata": {},
   "outputs": [],
   "source": [
    "# importamos la biblioteca numpy\n",
    "import numpy as np\n",
    "\n",
    "# utilizamos el método fillna para llenar los elementos vacíos por '0.0'\n",
    "# definimos el parámetro de inplace para True para substituir en el DataFrame\n",
    "dt_data['precio'].fillna('0.0', inplace = True)\n",
    "\n",
    "# borramos el $ y las comas con apply lambda\n",
    "dt_data['precio'] = dt_data['precio'].apply(lambda x: x.replace('$', '').replace(',',''))\n",
    "\n",
    "# transformamos los tipos de datos para float64\n",
    "dt_data['precio'] = dt_data['precio'].astype(np.float64)\n",
    "\n",
    "# observamos el resultado final\n",
    "dt_data"
   ]
  },
  {
   "cell_type": "markdown",
   "id": "641f7d69",
   "metadata": {},
   "source": [
    "### *4 Time - 07 Trabajando en otros contextos*\n",
    "Pongamos nuevamente en práctica todo lo que aprendimos durante la clase. He puesto los 2 nuevos conjuntos de datos disponibles para descargar a continuación:\n",
    "\n",
    "- Proyecto Desafío 1: Ventas Online - *dados_vendas_clientes.json*;\n",
    "    https://cdn3.gnarususercontent.com.br/2928-transformacao-manipulacao-dados/dados_vendas_clientes.json\n",
    "\n",
    "- Proyecto Desafío 2: Administración de Condominios - *dados_locacao_imoveis.json*.\n",
    "    https://cdn3.gnarususercontent.com.br/2928-transformacao-manipulacao-dados/dados_locacao_imoveis.json\n",
    "\n",
    "Recuerda: Estos dos proyectos de tratamiento se construyeron durante el curso. Por lo tanto, considere desarrollos previos para realizar este paso final.\n",
    "\n",
    "Etapa 4\n",
    "\n",
    "- Proyecto Desafío 1: Ventas Online\n",
    "En los pasos anteriores ya hemos trabajado con varios tipos de datos, ahora podemos trabajar con datos de tiempo.\n",
    "\n",
    "En la columna Fecha de venta tenemos fechas en el formato 'día/mes/año' (dd/mm/AAAA). Transforme estos datos al tipo datetime y busque una forma de visualización de subconjunto que pueda contribuir al objetivo del contexto en el que se insertan los datos.\n",
    "\n",
    "Si no recuerdas el problema del Proyecto Desafío 1, te dejo el texto de la situación a continuación para que sea más fácil encontrar la información:"
   ]
  },
  {
   "cell_type": "markdown",
   "id": "b41013f2",
   "metadata": {},
   "source": [
    "El objetivo de este proyecto es analizar los resultados de un evento con los clientes de una empresa de venta online. Se recopiló un conjunto de datos que contiene los clientes que gastaron más en productos dentro de los 5 días posteriores a la venta, que es la duración del evento. Este análisis identificará al cliente con la mayor compra esa semana, quien recibirá un premio de la tienda, y posteriormente, puede ayudar a la empresa a crear nuevas estrategias para atraer más clientes."
   ]
  },
  {
   "cell_type": "markdown",
   "id": "b75e30d2",
   "metadata": {},
   "source": [
    "- Proyecto Desafío 2: Administración de Condominios\n",
    "Al igual que en el Proyecto Desafío 1, trabajamos con todas las columnas excepto las que involucran fechas.\n",
    "\n",
    "En las columnas datas_de_pagamento y datas_combinadas_pagamento tenemos fechas en el formato 'día/mes/año' (dd/mm/AAAA). Transforme estos datos al tipo datetime y busque una forma de visualización de subconjunto que pueda contribuir al objetivo del contexto en el que se insertan los datos.\n",
    "\n",
    "Si no recuerdas el problema del Proyecto Desafío 2, te dejo el texto de la situación a continuación para que sea más fácil encontrar la información:"
   ]
  },
  {
   "cell_type": "markdown",
   "id": "668eec30",
   "metadata": {},
   "source": [
    "Administrar condominios es una tarea que requiere mucha atención y organización. Entre las diversas responsabilidades de gestión se encuentra el cobro del alquiler a los inquilinos. Para garantizar la buena salud financiera de la empresa, es fundamental que estos pagos se realicen de forma regular y puntual. Sin embargo, sabemos que esto no siempre sucede. Teniendo esto en cuenta, propongo un desafío de procesamiento de datos con el objetivo de analizar el retraso en el pago de la renta en el condominio ficticio de algunos residentes."
   ]
  },
  {
   "cell_type": "markdown",
   "id": "03a4853e",
   "metadata": {},
   "source": [
    "#### *Instructor*\n",
    "Puede haber varias formas de resolver un problema. Presentaré cómo resolví los problemas y esto no quiere decir que estas sean las mejores soluciones, sino que son una opción de solución.\n",
    "\n",
    "- Proyecto Desafío 1: Ventas Online"
   ]
  },
  {
   "cell_type": "code",
   "execution_count": null,
   "id": "c870d936",
   "metadata": {},
   "outputs": [],
   "source": [
    "# Transformar para el tipo datetime definiendo el formato de fecha como DD/MM/AAAA ('%d/%m/%Y')\n",
    "datos['Data de venda'] = pd.to_datetime(datos['Data de venda'], format='%d/%m/%Y')\n",
    "\n",
    "# Visualizar el resultado\n",
    "datos\n",
    "\n",
    "# Verificar el resultado de la transformación\n",
    "datos.info()\n",
    "\n",
    "# Calcular el total recaudado en compras por cada cliente\n",
    "total_compras = datos.groupby(['Cliente'])['Valor da compra'].sum()\n",
    "\n",
    "# Visualizar el resultado\n",
    "total_compras"
   ]
  },
  {
   "cell_type": "markdown",
   "id": "5abf47be",
   "metadata": {},
   "source": [
    "- Projecto Desafio 2: Administración de Condominios"
   ]
  },
  {
   "cell_type": "code",
   "execution_count": null,
   "id": "e35e4302",
   "metadata": {},
   "outputs": [],
   "source": [
    "# Transformar para el tipo datetime definiendo el formato de fecha como DD/MM/AAAA ('%d/%m/%Y')\n",
    "datos['datas_combinadas_pagamento'] = pd.to_datetime(datos['datas_combinadas_pagamento'], format='%d/%m/%Y')\n",
    "datos['datas_de_pagamento'] = pd.to_datetime(datos['datas_de_pagamento'], format='%d/%m/%Y')\n",
    "\n",
    "# Visualizar el resultado\n",
    "datos\n",
    "\n",
    "# Para contribuir en la solución del contexto es posible calcular la diferencia de días\n",
    "# entre la fecha combinada y la fecha de pagamento con dt.days\n",
    "datos['atraso'] = (datos['datas_de_pagamento'] - datos['datas_combinadas_pagamento']).dt.days\n",
    "\n",
    "# Observar el nuevo DataFrame\n",
    "datos\n",
    "\n",
    "# Calcular el promedio de tiempo de atraso por apartamentos\n",
    "media_atraso = datos.groupby(['apartamento'])['atraso'].mean()\n",
    "\n",
    "# Visualizar el resultado\n",
    "media_atraso"
   ]
  }
 ],
 "metadata": {
  "kernelspec": {
   "display_name": ".venv",
   "language": "python",
   "name": "python3"
  },
  "language_info": {
   "codemirror_mode": {
    "name": "ipython",
    "version": 3
   },
   "file_extension": ".py",
   "mimetype": "text/x-python",
   "name": "python",
   "nbconvert_exporter": "python",
   "pygments_lexer": "ipython3",
   "version": "3.13.5"
  }
 },
 "nbformat": 4,
 "nbformat_minor": 5
}
