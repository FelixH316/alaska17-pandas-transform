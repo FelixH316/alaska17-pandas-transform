{
 "cells": [
  {
   "cell_type": "markdown",
   "id": "657eac77",
   "metadata": {},
   "source": [
    "### *1 Problem - 07 Desafío: trabajando en otros contextos*\n",
    "\n",
    "Trabajando en otros contextos\n",
    "\n",
    "Ha llegado el momento de poner en práctica todo lo aprendido durante las clases. ¡Preparé dos proyectos adicionales para que los desarrollemos durante el curso, para asegurarnos de que podamos practicar mucho! Para ello trabajaremos con 2 nuevos conjuntos de datos, pero esta vez serán mucho más pequeños. Las bases de datos están disponibles para descargar aquí:\n",
    "\n",
    "Proyecto Desafío 1: Ventas Online - dados_vendas_clientes.json;\n",
    "    https://cdn3.gnarususercontent.com.br/2928-transformacao-manipulacao-dados/dados_vendas_clientes.json\n",
    "\n",
    "Proyecto Desafío 2: Administración de Condominios - dados_locacao_imoveis.json.\n",
    "    https://cdn3.gnarususercontent.com.br/2928-transformacao-manipulacao-dados/dados_locacao_imoveis.json\n",
    "\n",
    "En cada clase desarrollaremos una etapa de los proyectos. Así que guarde su código de construcción para cada desafío para poder aplicarlo en los desafíos posteriores.\n",
    "\n",
    "En cada clase desarrollaremos una etapa de los proyectos. Así que guarde su código de construcción para cada desafío para poder aplicarlo en los desafíos posteriores.\n",
    "\n",
    "Etapa 1\n",
    "\n",
    "- Proyecto Desafío 1: Ventas Online\n",
    "\n",
    "El objetivo de este proyecto es analizar los resultados de un evento con los clientes de una empresa de venta online. Se recopiló un conjunto de datos que contiene los clientes que más gastaron en productos durante los 5 días de ventas, que es la duración del evento. Este análisis identificará al cliente con la mayor compra esta semana, quien recibirá un premio de la tienda, y posteriormente, puede ayudar a la empresa a crear nuevas estrategias para atraer más clientes.\n",
    "\n",
    "La base de datos utilizada en este análisis es *dados_vendas_clientes.json* y contiene información importante sobre los clientes, como el nombre registrado del cliente, el monto total pagado al momento de la compra y el día de la compra.\n",
    "\n",
    "*dados_vendas_clientes.json*\n",
    "    https://cdn3.gnarususercontent.com.br/2928-transformacao-manipulacao-dados/dados_vendas_clientes.json\n",
    "\n",
    "Sabiendo esta información, el desafío del proyecto 1: ventas online será abrir la base de datos con Pandas y aplicar *json_normalize*.\n",
    "\n",
    "*json_normalize*\n",
    "    https://pandas.pydata.org/docs/reference/api/pandas.json_normalize.html\n",
    "\n",
    "- Proyecto Desafío 2: Administración de Condominios\n",
    "\n",
    "Administrar condominios es una tarea que requiere mucha atención y organización. Entre las diversas responsabilidades de gestión se encuentra el cobro del alquiler a los inquilinos. Para garantizar la buena salud financiera de la empresa, es fundamental que estos pagos se realicen de forma regular y puntual. Sin embargo, sabemos que esto no siempre sucede.\n",
    "\n",
    "Teniendo esto en cuenta, propongo un desafío de procesamiento de datos con el objetivo de analizar el retraso en el pago del alquiler en el condominio de algunos residentes. Pongo a disposición la base de datos *dados_locacao_imoveis.json*, que contiene información sobre el departamento de los inquilinos, el día acordado para el pago del alquiler, el día en que se realiza el pago del alquiler y el monto del alquiler.\n",
    "\n",
    "*dados_locacao_imoveis.json*\n",
    "    https://cdn3.gnarususercontent.com.br/2928-transformacao-manipulacao-dados/dados_locacao_imoveis.json\n",
    "\n",
    "Con esta información, el desafío del proyecto 2: administración del condominio será similar al desafío del proyecto 1, abrir la base de datos con Pandas y aplicar *json_normalize* al DataFrame.\n",
    "\n",
    "*json_normalize*\n",
    "    https://pandas.pydata.org/docs/reference/api/pandas.json_normalize.html"
   ]
  },
  {
   "cell_type": "markdown",
   "id": "c7966140",
   "metadata": {},
   "source": [
    "#### *Intructor*\n",
    "\n",
    "Puede haber varias formas de resolver un problema. Presentaré cómo resolví los problemas y esto no quiere decir que estas sean las mejores soluciones, sino que son una opción de solución.\n",
    "\n",
    "- Proyecto Desafío 1: Ventas Online"
   ]
  },
  {
   "cell_type": "code",
   "execution_count": null,
   "id": "f6845361",
   "metadata": {},
   "outputs": [],
   "source": [
    "# Import de pandas\n",
    "import pandas as pd\n",
    "\n",
    "# Leer el archivo json con read_json\n",
    "datos = pd.read_json('/content/dados_vendas_clientes.json')\n",
    "\n",
    "# Aplicar json_normalize en la columna dados_vendas\n",
    "datos = pd.json_normalize(datos['dados_vendas'])\n",
    "\n",
    "# Mostrar valores\n",
    "datos"
   ]
  },
  {
   "cell_type": "markdown",
   "id": "bf2ec15e",
   "metadata": {},
   "source": [
    "- Projecto Desafio 2: Administración de Condominios"
   ]
  },
  {
   "cell_type": "code",
   "execution_count": null,
   "id": "d0d4568a",
   "metadata": {},
   "outputs": [],
   "source": [
    "# Import de pandas\n",
    "import pandas as pd\n",
    "\n",
    "# Leer el archivo json con read_json\n",
    "datos = pd.read_json('/content/dados_locacao_imoveis.json')\n",
    "\n",
    "# Aplicar json_normalize en la columna dados_locacao\n",
    "datos = pd.json_normalize(datos['dados_locacao'])\n",
    "\n",
    "# Mostrar valores\n",
    "datos"
   ]
  },
  {
   "cell_type": "markdown",
   "id": "2c2dd652",
   "metadata": {},
   "source": [
    "### *2 Numeric - 07 Tratando números en strings*\n",
    "Selecciona la alternativa que hace que los datos de las columnas cantidad y salario se conviertan en valores numéricos, es decir, columnas int y float sin existencia de texto que acompañe a cada valor.\n",
    "\n",
    "Para ayudarlo con sus pruebas, intente usar el siguiente código para crear el DataFrame df y encontrar la solución para la actividad:"
   ]
  },
  {
   "cell_type": "code",
   "execution_count": null,
   "id": "434d6740",
   "metadata": {},
   "outputs": [],
   "source": [
    "import pandas as pd\n",
    "import numpy as np\n",
    "\n",
    "# datos de la empresa\n",
    "datos = {\n",
    "    'cargo': ['Gerencia', 'Coordinación', 'Supervisión', 'Analista', 'Asistente', 'Operación', 'Asistente', 'Prácticas', 'Asesoría', 'Consultoría'],\n",
    "    'cantidad': ['2 personas', '1 persona', '3 personas', '4 personas', '5 personas', '3 personas', '2 personas', '1 persona', '1 persona', '1 persona'],\n",
    "    'salario': ['$10.000 reales', '$8.000 reales', '$7.000 reales', '$5.000 reales', '$4.000 reales', '$3.500 reales', '$3.000 reales', '$1.500 reales', '$2.500 reales', '$6.000 reales']\n",
    "}\n",
    "\n",
    "# transformando el diccionario en DataFrame\n",
    "df = pd.DataFrame(datos)\n",
    "\n",
    "# df es el DataFrame con los datos de la empres\n",
    "df"
   ]
  },
  {
   "cell_type": "code",
   "execution_count": null,
   "id": "a246406f",
   "metadata": {},
   "outputs": [],
   "source": [
    "# OPTION 1 - INCORRECTA\n",
    "# Eliminamos los textos que están alrededor de los números con apply y lambda.\n",
    "df['cantidad'] = df['cantidad'].apply(lambda x: x.replace(' personas', '').replace(' persona', ''))\n",
    "df['salario'] = df['salario'].apply(lambda x: x.replace(' reales', ''))\n",
    "\n",
    "# Luego, transformamos las columnas a tipo numérico con astype.\n",
    "df['cantidad'] = df['cantidad'].astype(np.int64)\n",
    "df['salario'] = df['salario'].astype(np.float64)\n",
    "\n",
    "# ¿Por que esta mal?\n",
    "# En los reemplazos, el texto \"$\" no se elimina correctamente de la columna salario. Como resultado, cuando se utiliza astype, se produce un error de conversión."
   ]
  },
  {
   "cell_type": "code",
   "execution_count": null,
   "id": "e966965c",
   "metadata": {},
   "outputs": [],
   "source": [
    "# OPTION 2 - CORRECTA\n",
    "# Eliminamos los textos que están alrededor de los números con apply y lambda.\n",
    "df['cantidad'] = df['cantidad'].apply(lambda x: x.replace(' personas', '').replace(' persona', ''))\n",
    "df['salario'] = df['salario'].apply(lambda x: x.replace('$', '').replace(' reales', ''))\n",
    "\n",
    "# Luego, transformamos las columnas a tipo numérico con astype.\n",
    "df['cantidad'] = df['cantidad'].astype(np.int64)\n",
    "df['salario'] = df['salario'].astype(np.float64)\n",
    "\n",
    "# ¿Por que esta mal?\n",
    "# La función replace reemplaza textos con valores vacíos '', eliminándolos de la cadena original. Luego, se debe usar astype para convertir las columnas a numéricas, con el tipo int64 para la columna cantidady float64 para la columna salario."
   ]
  },
  {
   "cell_type": "code",
   "execution_count": null,
   "id": "f45030f5",
   "metadata": {},
   "outputs": [],
   "source": [
    "# OPTION 3 - INCORRECTA\n",
    "# Eliminamos los textos que están alrededor de los números con apply y lambda.\n",
    "df['cantidad'] = df['cantidad'].apply(lambda x: x.replace(' personas', ''))\n",
    "df['salario'] = df['salario'].apply(lambda x: x.replace('$', '').replace(' reales', ''))\n",
    "\n",
    "# Luego, transformamos las columnas a tipo numérico con astype.\n",
    "df['cantidad'] = df['cantidad'].astype(np.int64)\n",
    "df['salario'] = df['salario'].astype(np.float64)\n",
    "\n",
    "# ¿Por que esta mal?\n",
    "# En los reemplazos, el texto \"persona\" no se elimina correctamente de la columna cantidad. Permaneciendo el texto \"persona\" en los puestos de Coordinación, Prácticas, Asesoría y Consultoría, lo que provocará errores cuando utilicemos astype."
   ]
  },
  {
   "cell_type": "markdown",
   "id": "9858dc53",
   "metadata": {},
   "source": [
    "### *2 Numeric - 09 Desafío: trabajando en otros contextos*\n",
    "Pongamos nuevamente en práctica todo lo que aprendimos durante la clase. He puesto los 2 nuevos conjuntos de datos disponibles para descargar a continuación:\n",
    "\n",
    "- Proyecto Desafío 1: Ventas Online - *dados_vendas_clientes.json*;\n",
    "    https://cdn3.gnarususercontent.com.br/2928-transformacao-manipulacao-dados/dados_vendas_clientes.json\n",
    "\n",
    "- Proyecto Desafío 2: Administración de Condominios - *dados_locacao_imoveis.json*.\n",
    "    https://cdn3.gnarususercontent.com.br/2928-transformacao-manipulacao-dados/dados_locacao_imoveis.json\n",
    "\n",
    "Recuerda: Hay dos proyectos de tratamiento que se construirán durante el curso. Así que guarde su código de construcción para cada desafío para poder aplicarlo a desafíos posteriores."
   ]
  },
  {
   "cell_type": "markdown",
   "id": "5716a493",
   "metadata": {},
   "source": [
    "#### *Instructor*\n",
    "Puede haber varias formas de resolver un problema. Presentaré cómo resolví los problemas y esto no quiere decir que estas sean las mejores soluciones, sino que son una opción de solución.\n",
    "\n",
    "- Proyecto Desafío 1: Ventas Online"
   ]
  },
  {
   "cell_type": "code",
   "execution_count": null,
   "id": "6776c480",
   "metadata": {},
   "outputs": [],
   "source": [
    "# Colectar los valores de las columnas y verificar\n",
    "columnas = list(datos.columns)\n",
    "columnas\n",
    "\n",
    "# Destrincar las listas con explode\n",
    "datos = datos.explode(columnas[1:])\n",
    "# Resetear los index de las líneas\n",
    "datos.reset_index(drop=True,inplace=True)\n",
    "# Observar el DataFrame\n",
    "datos\n",
    "\n",
    "# Verificar los tipos de datos con info\n",
    "datos.info()\n",
    "\n",
    "# La columna numérica es el 'Valor da compra'\n",
    "datos['Valor da compra']\n",
    "\n",
    "# Iniciar la transformación\n",
    "# Import de la biblioteca numpy\n",
    "import numpy as np\n",
    "\n",
    "# Remover los textos presentes en la base\n",
    "# Cambiar las comas separadoras del decimal por punto\n",
    "datos['Valor da compra'] = datos['Valor da compra'].apply(lambda x: x.replace('R$ ', '').replace(',','.').strip())\n",
    "\n",
    "# Cambiar los tipo de datos para float\n",
    "datos['Valor da compra'] = datos['Valor da compra'].astype(np.float64)\n",
    "\n",
    "# Verificar la transformación\n",
    "datos.info()"
   ]
  },
  {
   "cell_type": "markdown",
   "id": "ba32e2b0",
   "metadata": {},
   "source": [
    "- Projecto Desafio 2: Administración de Condominios"
   ]
  },
  {
   "cell_type": "code",
   "execution_count": null,
   "id": "eb2af12f",
   "metadata": {},
   "outputs": [],
   "source": [
    "# Colectar los valores de las columnas y verificar\n",
    "columnas = list(datos.columns)\n",
    "columnas\n",
    "\n",
    "# Destrincar las listas con explode\n",
    "datos = datos.explode(columnas[1:])\n",
    "\n",
    "# Resetear los index de las líneas\n",
    "datos.reset_index(drop=True,inplace=True)\n",
    "\n",
    "# Observar el DataFrame\n",
    "datos\n",
    "\n",
    "# Verificar los tipos de datos con info\n",
    "datos.info()\n",
    "\n",
    "# La columna numérica es el 'valor_aluguel'\n",
    "datos['valor_aluguel']\n",
    "\n",
    "# Iniciar la transformación\n",
    "# Import de la biblioteca numpy\n",
    "import numpy as np\n",
    "\n",
    "# Remover los textos presentes en la base\n",
    "# Cambiar las comas separadoras del decimal por punto\n",
    "datos['valor_aluguel'] = datos['valor_aluguel'].apply(lambda x: x.replace('$ ', '').replace(' reais', '').replace(',','.').strip())\n",
    "\n",
    "# Cambiar los tipos de datos para float\n",
    "datos['valor_aluguel'] = datos['valor_aluguel'].astype(np.float64)\n",
    "\n",
    "# Verificar la transformación\n",
    "datos.info()"
   ]
  }
 ],
 "metadata": {
  "kernelspec": {
   "display_name": ".venv",
   "language": "python",
   "name": "python3"
  },
  "language_info": {
   "codemirror_mode": {
    "name": "ipython",
    "version": 3
   },
   "file_extension": ".py",
   "mimetype": "text/x-python",
   "name": "python",
   "nbconvert_exporter": "python",
   "pygments_lexer": "ipython3",
   "version": "3.13.5"
  }
 },
 "nbformat": 4,
 "nbformat_minor": 5
}
