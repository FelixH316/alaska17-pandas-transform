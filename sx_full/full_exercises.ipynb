{
 "cells": [
  {
   "cell_type": "markdown",
   "id": "657eac77",
   "metadata": {},
   "source": [
    "### *1 Problem - 07 Desafío: trabajando en otros contextos*\n",
    "\n",
    "Trabajando en otros contextos\n",
    "\n",
    "Ha llegado el momento de poner en práctica todo lo aprendido durante las clases. ¡Preparé dos proyectos adicionales para que los desarrollemos durante el curso, para asegurarnos de que podamos practicar mucho! Para ello trabajaremos con 2 nuevos conjuntos de datos, pero esta vez serán mucho más pequeños. Las bases de datos están disponibles para descargar aquí:\n",
    "\n",
    "Proyecto Desafío 1: Ventas Online - dados_vendas_clientes.json;\n",
    "    https://cdn3.gnarususercontent.com.br/2928-transformacao-manipulacao-dados/dados_vendas_clientes.json\n",
    "\n",
    "Proyecto Desafío 2: Administración de Condominios - dados_locacao_imoveis.json.\n",
    "    https://cdn3.gnarususercontent.com.br/2928-transformacao-manipulacao-dados/dados_locacao_imoveis.json\n",
    "\n",
    "En cada clase desarrollaremos una etapa de los proyectos. Así que guarde su código de construcción para cada desafío para poder aplicarlo en los desafíos posteriores.\n",
    "\n",
    "En cada clase desarrollaremos una etapa de los proyectos. Así que guarde su código de construcción para cada desafío para poder aplicarlo en los desafíos posteriores.\n",
    "\n",
    "Etapa 1\n",
    "\n",
    "- Proyecto Desafío 1: Ventas Online\n",
    "\n",
    "El objetivo de este proyecto es analizar los resultados de un evento con los clientes de una empresa de venta online. Se recopiló un conjunto de datos que contiene los clientes que más gastaron en productos durante los 5 días de ventas, que es la duración del evento. Este análisis identificará al cliente con la mayor compra esta semana, quien recibirá un premio de la tienda, y posteriormente, puede ayudar a la empresa a crear nuevas estrategias para atraer más clientes.\n",
    "\n",
    "La base de datos utilizada en este análisis es *dados_vendas_clientes.json* y contiene información importante sobre los clientes, como el nombre registrado del cliente, el monto total pagado al momento de la compra y el día de la compra.\n",
    "\n",
    "*dados_vendas_clientes.json*\n",
    "    https://cdn3.gnarususercontent.com.br/2928-transformacao-manipulacao-dados/dados_vendas_clientes.json\n",
    "\n",
    "Sabiendo esta información, el desafío del proyecto 1: ventas online será abrir la base de datos con Pandas y aplicar *json_normalize*.\n",
    "\n",
    "*json_normalize*\n",
    "    https://pandas.pydata.org/docs/reference/api/pandas.json_normalize.html\n",
    "\n",
    "- Proyecto Desafío 2: Administración de Condominios\n",
    "\n",
    "Administrar condominios es una tarea que requiere mucha atención y organización. Entre las diversas responsabilidades de gestión se encuentra el cobro del alquiler a los inquilinos. Para garantizar la buena salud financiera de la empresa, es fundamental que estos pagos se realicen de forma regular y puntual. Sin embargo, sabemos que esto no siempre sucede.\n",
    "\n",
    "Teniendo esto en cuenta, propongo un desafío de procesamiento de datos con el objetivo de analizar el retraso en el pago del alquiler en el condominio de algunos residentes. Pongo a disposición la base de datos *dados_locacao_imoveis.json*, que contiene información sobre el departamento de los inquilinos, el día acordado para el pago del alquiler, el día en que se realiza el pago del alquiler y el monto del alquiler.\n",
    "\n",
    "*dados_locacao_imoveis.json*\n",
    "    https://cdn3.gnarususercontent.com.br/2928-transformacao-manipulacao-dados/dados_locacao_imoveis.json\n",
    "\n",
    "Con esta información, el desafío del proyecto 2: administración del condominio será similar al desafío del proyecto 1, abrir la base de datos con Pandas y aplicar *json_normalize* al DataFrame.\n",
    "\n",
    "*json_normalize*\n",
    "    https://pandas.pydata.org/docs/reference/api/pandas.json_normalize.html"
   ]
  },
  {
   "cell_type": "markdown",
   "id": "c7966140",
   "metadata": {},
   "source": [
    "#### *Intructor*\n",
    "\n",
    "Puede haber varias formas de resolver un problema. Presentaré cómo resolví los problemas y esto no quiere decir que estas sean las mejores soluciones, sino que son una opción de solución.\n",
    "\n",
    "- Proyecto Desafío 1: Ventas Online"
   ]
  },
  {
   "cell_type": "code",
   "execution_count": null,
   "id": "f6845361",
   "metadata": {},
   "outputs": [],
   "source": [
    "# Import de pandas\n",
    "import pandas as pd\n",
    "\n",
    "# Leer el archivo json con read_json\n",
    "datos = pd.read_json('/content/dados_vendas_clientes.json')\n",
    "\n",
    "# Aplicar json_normalize en la columna dados_vendas\n",
    "datos = pd.json_normalize(datos['dados_vendas'])\n",
    "\n",
    "# Mostrar valores\n",
    "datos"
   ]
  },
  {
   "cell_type": "markdown",
   "id": "bf2ec15e",
   "metadata": {},
   "source": [
    "- Projecto Desafio 2: Administración de Condominios"
   ]
  },
  {
   "cell_type": "code",
   "execution_count": null,
   "id": "d0d4568a",
   "metadata": {},
   "outputs": [],
   "source": [
    "# Import de pandas\n",
    "import pandas as pd\n",
    "\n",
    "# Leer el archivo json con read_json\n",
    "datos = pd.read_json('/content/dados_locacao_imoveis.json')\n",
    "\n",
    "# Aplicar json_normalize en la columna dados_locacao\n",
    "datos = pd.json_normalize(datos['dados_locacao'])\n",
    "\n",
    "# Mostrar valores\n",
    "datos"
   ]
  }
 ],
 "metadata": {
  "kernelspec": {
   "display_name": ".venv",
   "language": "python",
   "name": "python3"
  },
  "language_info": {
   "codemirror_mode": {
    "name": "ipython",
    "version": 3
   },
   "file_extension": ".py",
   "mimetype": "text/x-python",
   "name": "python",
   "nbconvert_exporter": "python",
   "pygments_lexer": "ipython3",
   "version": "3.13.5"
  }
 },
 "nbformat": 4,
 "nbformat_minor": 5
}
